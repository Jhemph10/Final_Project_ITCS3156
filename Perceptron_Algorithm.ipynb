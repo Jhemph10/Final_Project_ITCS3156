{
 "cells": [
  {
   "cell_type": "markdown",
   "id": "9da014d0-9a02-43d7-b25e-86e547124407",
   "metadata": {},
   "source": [
    "# Final Project: Perceptron Algorithm"
   ]
  },
  {
   "cell_type": "markdown",
   "id": "95703485-f5c4-448c-974c-c7586557b04e",
   "metadata": {},
   "source": [
    "## Name: <span style=\"color:blue\"> *Josiah Hemphill* </span>"
   ]
  },
  {
   "cell_type": "markdown",
   "id": "f39a01fb-0f3a-4039-9c6e-008028744072",
   "metadata": {},
   "source": [
    "## Utils"
   ]
  },
  {
   "cell_type": "code",
   "execution_count": 4,
   "id": "ad763d5f-330d-479f-860d-82b1eb7473cd",
   "metadata": {},
   "outputs": [],
   "source": [
    "from typing import List, Dict, Tuple\n",
    "import os\n",
    "import gc\n",
    "import traceback\n",
    "import warnings\n",
    "from pdb import set_trace\n",
    "\n",
    "# Default seed\n",
    "seed = 0"
   ]
  },
  {
   "cell_type": "code",
   "execution_count": 5,
   "id": "a195b946-4606-4beb-a41a-5b9b71e05e94",
   "metadata": {},
   "outputs": [],
   "source": [
    "import numpy as np\n",
    "import pandas as pd\n",
    "import matplotlib.pyplot as plt"
   ]
  },
  {
   "cell_type": "code",
   "execution_count": 6,
   "id": "148daa44-c9f3-4ba0-9c10-10f81b3ba483",
   "metadata": {},
   "outputs": [],
   "source": [
    "import pandas as pd\n",
    "\n",
    "vgsales_df = pd.read_csv(\"vgsales.csv\")\n",
    "feature_names = vgsales_df.columns"
   ]
  }
 ],
 "metadata": {
  "kernelspec": {
   "display_name": "Python 3 (ipykernel)",
   "language": "python",
   "name": "python3"
  },
  "language_info": {
   "codemirror_mode": {
    "name": "ipython",
    "version": 3
   },
   "file_extension": ".py",
   "mimetype": "text/x-python",
   "name": "python",
   "nbconvert_exporter": "python",
   "pygments_lexer": "ipython3",
   "version": "3.12.4"
  }
 },
 "nbformat": 4,
 "nbformat_minor": 5
}

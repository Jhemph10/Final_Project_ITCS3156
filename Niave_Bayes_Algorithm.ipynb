{
 "cells": [
  {
   "cell_type": "markdown",
   "id": "9da014d0-9a02-43d7-b25e-86e547124407",
   "metadata": {},
   "source": [
    "# Final Project: Niave Bayes Algorithm"
   ]
  },
  {
   "cell_type": "markdown",
   "id": "95703485-f5c4-448c-974c-c7586557b04e",
   "metadata": {},
   "source": [
    "## Name: <span style=\"color:blue\"> *Josiah Hemphill* </span>"
   ]
  },
  {
   "cell_type": "markdown",
   "id": "f39a01fb-0f3a-4039-9c6e-008028744072",
   "metadata": {},
   "source": [
    "## Utils"
   ]
  },
  {
   "cell_type": "code",
   "execution_count": 4,
   "id": "ad763d5f-330d-479f-860d-82b1eb7473cd",
   "metadata": {},
   "outputs": [],
   "source": [
    "from typing import List, Dict, Tuple, Callable, Union\n",
    "import os\n",
    "import gc\n",
    "import traceback\n",
    "import warnings\n",
    "from pdb import set_trace\n",
    "\n",
    "import sklearn\n",
    "import numpy as np\n",
    "import pandas as pd\n",
    "import seaborn as sns\n",
    "import matplotlib.pyplot as plt"
   ]
  },
  {
   "cell_type": "code",
   "execution_count": 5,
   "id": "a195b946-4606-4beb-a41a-5b9b71e05e94",
   "metadata": {},
   "outputs": [],
   "source": [
    "import numpy as np\n",
    "import pandas as pd\n",
    "import matplotlib.pyplot as plt"
   ]
  },
  {
   "cell_type": "code",
   "execution_count": 6,
   "id": "148daa44-c9f3-4ba0-9c10-10f81b3ba483",
   "metadata": {},
   "outputs": [],
   "source": [
    "import pandas as pd\n",
    "\n",
    "vgsales_df = pd.read_csv(\"vgsales.csv\")\n",
    "feature_names = vgsales_df.columns"
   ]
  },
  {
   "cell_type": "code",
   "execution_count": null,
   "id": "226742fd-6b66-447a-adb4-9752200e578e",
   "metadata": {},
   "outputs": [],
   "source": [
    "from sklearn.model_selection import train_test_split\n",
    "def get_train_valid_test_data(\n",
    "    X: np.ndarray, \n",
    "    y: np.ndarray, \n",
    "):\n",
    "    \"\"\" Randomizes and then splits the data into train, validation, and test sets.\n",
    "\n",
    "        Args:\n",
    "            X: Data given as a 2D matrix\n",
    "\n",
    "            y: Labels given as a vector \n",
    "    \"\"\"\n",
    "    X_trn, X_tst, y_trn, y_tst = train_test_split(X, y, train_size=.8, random_state=42)\n",
    "    X_trn, X_vld, y_trn, y_vld = train_test_split(X_trn, y_trn, train_size=.8, random_state=42)\n",
    "\n",
    "    return X_trn, y_trn, X_vld, y_vld, X_tst, y_tst"
   ]
  },
  {
   "cell_type": "code",
   "execution_count": null,
   "id": "c3472aac-5ca1-4b60-9c48-cbf02a61de73",
   "metadata": {},
   "outputs": [],
   "source": [
    "def get_preprocessed_data(drop_features: List[str] = None) -> Tuple[np.ndarray]:\n",
    "    \"\"\" Gets preprocessed data for training, validation, and testing\n",
    "        Args:\n",
    "            drop_features: List of feature names to drop from iris.data.\n",
    "            \n",
    "        Return:\n",
    "            A tuple of NumPy arrays where indices 0-1 \n",
    "            contain the training data/targets, indices 2-3\n",
    "            contain the validation data/targets, and 4-5\n",
    "            contain the testing data/targets.\n",
    "    \"\"\"\n",
    "    X = iris.data.copy()\n",
    "    y = iris.target.copy()\n",
    "    # TODO 2.1 - 2.2\n",
    "    if drop_features != None:\n",
    "        X = iris.data.drop(drop_features, axis = 1)\n",
    "    else:\n",
    "        None\n",
    "    X_trn, y_trn, X_vld, y_vld, X_tst, y_tst = get_train_valid_test_data(X, y)\n",
    "    # Reshape targets to be 2D column vectors\n",
    "    return X_trn.values, y_trn.values.reshape(-1, 1), X_vld.values, y_vld.values.reshape(-1, 1), X_tst.values, y_tst.values.reshape(-1, 1)"
   ]
  },
  {
   "cell_type": "code",
   "execution_count": null,
   "id": "6e0e34a3-aa5f-46ef-b213-65b90c9e165d",
   "metadata": {},
   "outputs": [],
   "source": []
  }
 ],
 "metadata": {
  "kernelspec": {
   "display_name": "Python 3 (ipykernel)",
   "language": "python",
   "name": "python3"
  },
  "language_info": {
   "codemirror_mode": {
    "name": "ipython",
    "version": 3
   },
   "file_extension": ".py",
   "mimetype": "text/x-python",
   "name": "python",
   "nbconvert_exporter": "python",
   "pygments_lexer": "ipython3",
   "version": "3.12.4"
  }
 },
 "nbformat": 4,
 "nbformat_minor": 5
}
